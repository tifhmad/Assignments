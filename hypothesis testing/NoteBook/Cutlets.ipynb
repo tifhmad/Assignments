{
  "nbformat": 4,
  "nbformat_minor": 0,
  "metadata": {
    "colab": {
      "provenance": []
    },
    "kernelspec": {
      "name": "python3",
      "display_name": "Python 3"
    },
    "language_info": {
      "name": "python"
    }
  },
  "cells": [
    {
      "cell_type": "code",
      "execution_count": 1,
      "metadata": {
        "id": "lDRckJLWqHv8"
      },
      "outputs": [],
      "source": [
        "import pandas as pd\n",
        "import numpy as np\n",
        "from scipy import stats"
      ]
    },
    {
      "cell_type": "markdown",
      "source": [
        "A F&B manager wants to determine whether there is any significant difference in the diameter of the cutlet between two units. A randomly selected sample of cutlets was collected from both units and measured? Analyze the data and draw inferences at 5% significance level. Please state the assumptions and tests that you carried out to check validity of the assumptions"
      ],
      "metadata": {
        "id": "RAPWtP10qcVX"
      }
    },
    {
      "cell_type": "markdown",
      "source": [
        "Business Problem\n",
        "Is there significant difference in the diameter of the cutlet ?"
      ],
      "metadata": {
        "id": "bdZg3KGPqhGo"
      }
    },
    {
      "cell_type": "markdown",
      "source": [
        "α == 0.05 (95% Confidence)\n",
        "\n",
        "Y == Continious\n",
        "X == Discrete\n",
        "\n",
        "Is Y1 and Y2 normal ?\n",
        "\n",
        "H0 = Y1 and Y2 are normal\n",
        "H1 = Y1 and Y2 are not normal"
      ],
      "metadata": {
        "id": "veRgMoRTqnh8"
      }
    },
    {
      "cell_type": "markdown",
      "source": [
        "# Normality Test"
      ],
      "metadata": {
        "id": "vrx40pWuqp21"
      }
    },
    {
      "cell_type": "code",
      "source": [
        "df=pd.read_csv('/content/Cutlets.csv')"
      ],
      "metadata": {
        "id": "QTeolYi2qZ_B"
      },
      "execution_count": 4,
      "outputs": []
    },
    {
      "cell_type": "code",
      "source": [
        "stats.shapiro(df['Unit A'])"
      ],
      "metadata": {
        "colab": {
          "base_uri": "https://localhost:8080/"
        },
        "id": "zzuyMISYqyid",
        "outputId": "8dfbc0af-7bfc-4a22-adef-b98261949841"
      },
      "execution_count": 5,
      "outputs": [
        {
          "output_type": "execute_result",
          "data": {
            "text/plain": [
              "ShapiroResult(statistic=0.9649458527565002, pvalue=0.3199819028377533)"
            ]
          },
          "metadata": {},
          "execution_count": 5
        }
      ]
    },
    {
      "cell_type": "markdown",
      "source": [
        "P value for Unti A == 0.32> α\n"
      ],
      "metadata": {
        "id": "wFP4EChQrTJA"
      }
    },
    {
      "cell_type": "code",
      "source": [
        "stats.shapiro(df['Unit B'])"
      ],
      "metadata": {
        "colab": {
          "base_uri": "https://localhost:8080/"
        },
        "id": "4CEBKNuerNiW",
        "outputId": "efb616fe-d4f5-4910-e55d-f735517a249d"
      },
      "execution_count": 6,
      "outputs": [
        {
          "output_type": "execute_result",
          "data": {
            "text/plain": [
              "ShapiroResult(statistic=0.9727300405502319, pvalue=0.5224985480308533)"
            ]
          },
          "metadata": {},
          "execution_count": 6
        }
      ]
    },
    {
      "cell_type": "markdown",
      "source": [
        "(0.9727300405502319, 0.5224985480308533)\n",
        "P value for Unit B == 0.52 > α\n",
        "\n",
        "HO is accepted. Thats is both Y1 and Y2 are normal"
      ],
      "metadata": {
        "id": "PngsZKBjs7ot"
      }
    },
    {
      "cell_type": "markdown",
      "source": [
        "# External condition are same.\n",
        "Thus we can perform Paired T Test"
      ],
      "metadata": {
        "id": "lLnGi2-fs-5v"
      }
    },
    {
      "cell_type": "markdown",
      "source": [
        "# Model"
      ],
      "metadata": {
        "id": "hSWJfz7mtChi"
      }
    },
    {
      "cell_type": "markdown",
      "source": [
        "H0 == Mean for Y1 and Y2 are equal (There is no significance difference between diameter of the Culets)\n",
        "H1 == Mean for Y1 and Y2 are not equal (There is a significance difference between diameter of the Culets)"
      ],
      "metadata": {
        "id": "NtQlZCeptD-F"
      }
    },
    {
      "cell_type": "code",
      "source": [
        "stats.ttest_rel(df['Unit A'],df['Unit B'])"
      ],
      "metadata": {
        "colab": {
          "base_uri": "https://localhost:8080/"
        },
        "id": "mghNis2Ds4yM",
        "outputId": "fd8b083b-a4d7-4a6c-e59a-4ac03fb80b36"
      },
      "execution_count": 8,
      "outputs": [
        {
          "output_type": "execute_result",
          "data": {
            "text/plain": [
              "Ttest_relResult(statistic=0.7536787225614314, pvalue=0.4562300768038412)"
            ]
          },
          "metadata": {},
          "execution_count": 8
        }
      ]
    },
    {
      "cell_type": "markdown",
      "source": [
        "Ttest_relResult(statistic=0.7536787225614323, pvalue=0.45623007680384076)\n",
        "P value of the Paired T Test is == 0.45 > α"
      ],
      "metadata": {
        "id": "fPsmzpYKtTQV"
      }
    },
    {
      "cell_type": "markdown",
      "source": [
        "Thus H0 is accepted.\n",
        "Mean of both Y1 and Y2 are equal"
      ],
      "metadata": {
        "id": "k3rmqL15tY_g"
      }
    },
    {
      "cell_type": "code",
      "source": [],
      "metadata": {
        "id": "kDLMtScItN_b"
      },
      "execution_count": null,
      "outputs": []
    }
  ]
}