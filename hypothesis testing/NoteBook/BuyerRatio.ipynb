{
  "nbformat": 4,
  "nbformat_minor": 0,
  "metadata": {
    "colab": {
      "provenance": []
    },
    "kernelspec": {
      "name": "python3",
      "display_name": "Python 3"
    },
    "language_info": {
      "name": "python"
    }
  },
  "cells": [
    {
      "cell_type": "code",
      "execution_count": 1,
      "metadata": {
        "id": "lDRckJLWqHv8"
      },
      "outputs": [],
      "source": [
        "import pandas as pd\n",
        "import numpy as np\n",
        "from scipy import stats"
      ]
    },
    {
      "cell_type": "markdown",
      "source": [
        "Sales of products in four different regions is tabulated for males and females. Find if male-female buyer rations are similar across regions"
      ],
      "metadata": {
        "id": "RAPWtP10qcVX"
      }
    },
    {
      "cell_type": "markdown",
      "source": [
        "Business Problem\n",
        "Is the male-female buyer rations are similar across regions\n"
      ],
      "metadata": {
        "id": "bdZg3KGPqhGo"
      }
    },
    {
      "cell_type": "markdown",
      "source": [
        "α == 0.05 (95% Confidence)\n",
        "\n",
        "Y == Discrete\n",
        "X == Discrete\n",
        "\n",
        "Since there are more than 2 variable we will perform Chi-Square test"
      ],
      "metadata": {
        "id": "veRgMoRTqnh8"
      }
    },
    {
      "cell_type": "markdown",
      "source": [
        "# Chi-Square Test"
      ],
      "metadata": {
        "id": "vrx40pWuqp21"
      }
    },
    {
      "cell_type": "code",
      "source": [
        "df=pd.read_csv('/content/BuyerRatio.csv')"
      ],
      "metadata": {
        "id": "QTeolYi2qZ_B"
      },
      "execution_count": 2,
      "outputs": []
    },
    {
      "cell_type": "markdown",
      "source": [
        "H0 == The male-female buyer rations are similar across regions\n",
        "\n",
        "H1 == The male-female buyer rations are not similar across regions"
      ],
      "metadata": {
        "id": "5_gvZlzRq6lX"
      }
    },
    {
      "cell_type": "code",
      "source": [
        "stats.chi2_contingency([df['East'],df['West'],df['North'],df['South']])"
      ],
      "metadata": {
        "colab": {
          "base_uri": "https://localhost:8080/"
        },
        "id": "zzuyMISYqyid",
        "outputId": "b7e7ea27-d3a5-430b-e500-6bd51c637468"
      },
      "execution_count": 3,
      "outputs": [
        {
          "output_type": "execute_result",
          "data": {
            "text/plain": [
              "(1.5959455386610577,\n",
              " 0.6603094907091882,\n",
              " 3,\n",
              " array([[  42.76531299,  442.23468701],\n",
              "        [ 146.81287862, 1518.18712138],\n",
              "        [ 131.11756787, 1355.88243213],\n",
              "        [  72.30424052,  747.69575948]]))"
            ]
          },
          "metadata": {},
          "execution_count": 3
        }
      ]
    },
    {
      "cell_type": "markdown",
      "source": [
        "P value of Chi-Square test == 0.66 > α\n",
        "\n",
        "Thus HO is accepted.\n",
        "The male-female buyer rations are similar across regions"
      ],
      "metadata": {
        "id": "wFP4EChQrTJA"
      }
    },
    {
      "cell_type": "code",
      "source": [],
      "metadata": {
        "id": "4CEBKNuerNiW"
      },
      "execution_count": null,
      "outputs": []
    }
  ]
}