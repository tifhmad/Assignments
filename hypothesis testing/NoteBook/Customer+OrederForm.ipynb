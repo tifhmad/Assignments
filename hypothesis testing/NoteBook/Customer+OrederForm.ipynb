{
  "nbformat": 4,
  "nbformat_minor": 0,
  "metadata": {
    "colab": {
      "provenance": []
    },
    "kernelspec": {
      "name": "python3",
      "display_name": "Python 3"
    },
    "language_info": {
      "name": "python"
    }
  },
  "cells": [
    {
      "cell_type": "code",
      "execution_count": 21,
      "metadata": {
        "id": "lDRckJLWqHv8"
      },
      "outputs": [],
      "source": [
        "import pandas as pd\n",
        "import numpy as np\n",
        "from scipy import stats"
      ]
    },
    {
      "cell_type": "markdown",
      "source": [
        "TeleCall uses 4 centers around the globe to process customer order forms. They audit a certain % of the customer order forms. Any error in order form renders it defective and has to be reworked before processing. The manager wants to check whether the defective % varies by centre. Please analyze the data at 5% significance level and help the manager draw appropriate inferences"
      ],
      "metadata": {
        "id": "RAPWtP10qcVX"
      }
    },
    {
      "cell_type": "markdown",
      "source": [
        " Business Problem\n",
        "Does the defective % varies significantly by centre ?"
      ],
      "metadata": {
        "id": "bdZg3KGPqhGo"
      }
    },
    {
      "cell_type": "markdown",
      "source": [
        "α == 0.05 (95% Confidence)\n",
        "\n",
        "Y == Discrete\n",
        "X == Discrete\n",
        "\n",
        "Since there are more than 2 variable we will perform Chi-Square test"
      ],
      "metadata": {
        "id": "veRgMoRTqnh8"
      }
    },
    {
      "cell_type": "markdown",
      "source": [
        "# Chi-Square Test"
      ],
      "metadata": {
        "id": "vrx40pWuqp21"
      }
    },
    {
      "cell_type": "code",
      "source": [
        "df=pd.read_csv('/content/Costomer+OrderForm.csv')"
      ],
      "metadata": {
        "id": "QTeolYi2qZ_B"
      },
      "execution_count": 20,
      "outputs": []
    },
    {
      "cell_type": "markdown",
      "source": [
        "\n",
        "H0 == The defective % does not varies by centre\n",
        "\n",
        "H1 == The defective % does varies by centre"
      ],
      "metadata": {
        "id": "HPFCp0EzwQfj"
      }
    },
    {
      "cell_type": "code",
      "source": [
        "stats.chi2_contingency([df['Phillippines'].value_counts(),df['Indonesia'].value_counts(),df['Malta'].value_counts(),df['India'].value_counts()])"
      ],
      "metadata": {
        "colab": {
          "base_uri": "https://localhost:8080/"
        },
        "id": "zzuyMISYqyid",
        "outputId": "6f59527e-8571-40fe-dc56-ab79b81b5421"
      },
      "execution_count": 24,
      "outputs": [
        {
          "output_type": "execute_result",
          "data": {
            "text/plain": [
              "(3.8589606858203545, 0.2771020991233144, 3, array([[271.75,  28.25],\n",
              "        [271.75,  28.25],\n",
              "        [271.75,  28.25],\n",
              "        [271.75,  28.25]]))"
            ]
          },
          "metadata": {},
          "execution_count": 24
        }
      ]
    },
    {
      "cell_type": "markdown",
      "source": [
        "P value of Chi-Square test == 0.277 > α"
      ],
      "metadata": {
        "id": "W1lB1W82xox-"
      }
    },
    {
      "cell_type": "markdown",
      "source": [
        "# H0 is accepted\n",
        "The defective % does not varies significantly by centres"
      ],
      "metadata": {
        "id": "PiyWNtDQvNT4"
      }
    },
    {
      "cell_type": "code",
      "source": [],
      "metadata": {
        "id": "x-5EOh_Pvgl7"
      },
      "execution_count": null,
      "outputs": []
    }
  ]
}