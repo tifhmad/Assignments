{
  "nbformat": 4,
  "nbformat_minor": 0,
  "metadata": {
    "colab": {
      "provenance": []
    },
    "kernelspec": {
      "name": "python3",
      "display_name": "Python 3"
    },
    "language_info": {
      "name": "python"
    }
  },
  "cells": [
    {
      "cell_type": "code",
      "execution_count": 10,
      "metadata": {
        "id": "lDRckJLWqHv8"
      },
      "outputs": [],
      "source": [
        "import pandas as pd\n",
        "import numpy as np\n",
        "from scipy import stats"
      ]
    },
    {
      "cell_type": "markdown",
      "source": [
        "A hospital wants to determine whether there is any difference in the average Turn Around Time (TAT) of reports of the laboratories on their preferred list. They collected a random sample and recorded TAT for reports of 4 laboratories. TAT is defined as sample collected to report dispatch\n",
        "\n",
        "Analyze the data and determine whether there is any difference in average TAT among the different laboratories at 5% significance level"
      ],
      "metadata": {
        "id": "RAPWtP10qcVX"
      }
    },
    {
      "cell_type": "markdown",
      "source": [
        " Business Problem\n",
        "Is there a significant difference in the average Turn Around Time between laboratories ?"
      ],
      "metadata": {
        "id": "bdZg3KGPqhGo"
      }
    },
    {
      "cell_type": "markdown",
      "source": [
        "α == 0.05 (95% Confidence)\n",
        "\n",
        "Y == Continious\n",
        "X == Discrete\n",
        "\n",
        "Is Y1, Y2, Y3 and Y4 normal ?\n",
        "\n",
        "H0 = Y1, Y2, Y3 and Y4 are normal\n",
        "H1 = Y1, Y2, Y3 and Y4 are not normal"
      ],
      "metadata": {
        "id": "veRgMoRTqnh8"
      }
    },
    {
      "cell_type": "markdown",
      "source": [
        "# Normality Test"
      ],
      "metadata": {
        "id": "vrx40pWuqp21"
      }
    },
    {
      "cell_type": "code",
      "source": [
        "df=pd.read_csv('/content/LabTAT.csv')"
      ],
      "metadata": {
        "id": "QTeolYi2qZ_B"
      },
      "execution_count": 9,
      "outputs": []
    },
    {
      "cell_type": "code",
      "source": [
        "stats.shapiro(df['Laboratory 1'])"
      ],
      "metadata": {
        "colab": {
          "base_uri": "https://localhost:8080/"
        },
        "id": "zzuyMISYqyid",
        "outputId": "2489fbb5-01f3-4089-a93e-91114bef3df7"
      },
      "execution_count": 11,
      "outputs": [
        {
          "output_type": "execute_result",
          "data": {
            "text/plain": [
              "ShapiroResult(statistic=0.9901824593544006, pvalue=0.5506953597068787)"
            ]
          },
          "metadata": {},
          "execution_count": 11
        }
      ]
    },
    {
      "cell_type": "markdown",
      "source": [
        "(0.9901824593544006, 0.5506953597068787)\n",
        "P value for Laboratory 1 == 0.55 > α"
      ],
      "metadata": {
        "id": "wFP4EChQrTJA"
      }
    },
    {
      "cell_type": "code",
      "source": [
        "stats.shapiro(df['Laboratory 2'])"
      ],
      "metadata": {
        "colab": {
          "base_uri": "https://localhost:8080/"
        },
        "id": "4CEBKNuerNiW",
        "outputId": "c471967a-fb2a-4d9e-f065-098543e7f285"
      },
      "execution_count": 12,
      "outputs": [
        {
          "output_type": "execute_result",
          "data": {
            "text/plain": [
              "ShapiroResult(statistic=0.9936322569847107, pvalue=0.8637524843215942)"
            ]
          },
          "metadata": {},
          "execution_count": 12
        }
      ]
    },
    {
      "cell_type": "markdown",
      "source": [
        "\n",
        "(0.9936322569847107, 0.8637524843215942)\n",
        "P value for Laboratory 2 == 0.86 > α"
      ],
      "metadata": {
        "id": "PngsZKBjs7ot"
      }
    },
    {
      "cell_type": "code",
      "source": [
        "stats.shapiro(df['Laboratory 3'])"
      ],
      "metadata": {
        "colab": {
          "base_uri": "https://localhost:8080/"
        },
        "id": "Ok380sE6uUKn",
        "outputId": "cf97b27e-87ed-4bb6-8109-5dff7a6facb0"
      },
      "execution_count": 13,
      "outputs": [
        {
          "output_type": "execute_result",
          "data": {
            "text/plain": [
              "ShapiroResult(statistic=0.9886345267295837, pvalue=0.4205053448677063)"
            ]
          },
          "metadata": {},
          "execution_count": 13
        }
      ]
    },
    {
      "cell_type": "code",
      "source": [
        "stats.shapiro(df['Laboratory 4'])"
      ],
      "metadata": {
        "colab": {
          "base_uri": "https://localhost:8080/"
        },
        "id": "Aeot85i_udAo",
        "outputId": "17f5c330-fca2-4cc7-c55d-20b0aab28b81"
      },
      "execution_count": 14,
      "outputs": [
        {
          "output_type": "execute_result",
          "data": {
            "text/plain": [
              "ShapiroResult(statistic=0.9913753271102905, pvalue=0.6618951559066772)"
            ]
          },
          "metadata": {},
          "execution_count": 14
        }
      ]
    },
    {
      "cell_type": "markdown",
      "source": [
        "(0.9913753271102905, 0.6618951559066772)\n",
        "P value for Y1 (Unit B) == 0.66 > α"
      ],
      "metadata": {
        "id": "kG4QBXgruiEL"
      }
    },
    {
      "cell_type": "markdown",
      "source": [
        "# Variance\n",
        "H0 == Variance of all 4 laboratories are the same\n",
        "H1 == Variance of all 4 laboratories are the not same~"
      ],
      "metadata": {
        "id": "lLnGi2-fs-5v"
      }
    },
    {
      "cell_type": "code",
      "source": [
        "stats.levene(df['Laboratory 1'],df['Laboratory 2'],df['Laboratory 3'],df['Laboratory 4'])"
      ],
      "metadata": {
        "colab": {
          "base_uri": "https://localhost:8080/"
        },
        "id": "reQF6zyVuwSc",
        "outputId": "447be68d-5816-4dfc-cb33-a01d3a2a46c4"
      },
      "execution_count": 17,
      "outputs": [
        {
          "output_type": "execute_result",
          "data": {
            "text/plain": [
              "LeveneResult(statistic=2.599642500418024, pvalue=0.05161343808309816)"
            ]
          },
          "metadata": {},
          "execution_count": 17
        }
      ]
    },
    {
      "cell_type": "markdown",
      "source": [
        "LeveneResult(statistic=2.599642500418024, pvalue=0.05161343808309816)\n",
        "P Value of Variance test is == 0.051 > α"
      ],
      "metadata": {
        "id": "mz6Mpx5kvKhD"
      }
    },
    {
      "cell_type": "markdown",
      "source": [
        "# H0 is accepted\n",
        "Thus we will perform one way Anova Test"
      ],
      "metadata": {
        "id": "PiyWNtDQvNT4"
      }
    },
    {
      "cell_type": "markdown",
      "source": [
        "# Model"
      ],
      "metadata": {
        "id": "FyjhGDB5vPxp"
      }
    },
    {
      "cell_type": "markdown",
      "source": [
        "H0 == Mean TAT for 4 laboratories equal (There is no significance difference between TAT of the laboratories)\n",
        "H1 == Mean TAT for 4 laboratories not equal (There is a significance difference between TAT of the laboratories)"
      ],
      "metadata": {
        "id": "EZ9agGPvvSW9"
      }
    },
    {
      "cell_type": "code",
      "source": [
        "stats.stats.f_oneway(df['Laboratory 1'],df['Laboratory 2'],df['Laboratory 3'],df['Laboratory 4'])"
      ],
      "metadata": {
        "colab": {
          "base_uri": "https://localhost:8080/"
        },
        "id": "13bjc_S8vBPu",
        "outputId": "bafa526c-ce84-453b-f83a-51786f9ec0a4"
      },
      "execution_count": 19,
      "outputs": [
        {
          "output_type": "execute_result",
          "data": {
            "text/plain": [
              "F_onewayResult(statistic=118.70421654401437, pvalue=2.1156708949992414e-57)"
            ]
          },
          "metadata": {},
          "execution_count": 19
        }
      ]
    },
    {
      "cell_type": "markdown",
      "source": [
        "F_onewayResult(statistic=118.70421654401437, pvalue=2.1156708949992414e-57)\n",
        "P value of the One way Anova test is == 2e-16 < α"
      ],
      "metadata": {
        "id": "QyjBCSzdvifz"
      }
    },
    {
      "cell_type": "markdown",
      "source": [
        "# Thus H1 is accepted.\n",
        "Mean TAT for 4 laboratories not equal (There is a significance difference between TAT of the laboratories)"
      ],
      "metadata": {
        "id": "ZzDXoMM8vrlJ"
      }
    },
    {
      "cell_type": "markdown",
      "source": [],
      "metadata": {
        "id": "Jdxjc56AviPb"
      }
    },
    {
      "cell_type": "code",
      "source": [],
      "metadata": {
        "id": "x-5EOh_Pvgl7"
      },
      "execution_count": null,
      "outputs": []
    }
  ]
}