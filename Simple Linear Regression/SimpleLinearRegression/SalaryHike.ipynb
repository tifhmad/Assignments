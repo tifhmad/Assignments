{
  "nbformat": 4,
  "nbformat_minor": 0,
  "metadata": {
    "colab": {
      "provenance": []
    },
    "kernelspec": {
      "name": "python3",
      "display_name": "Python 3"
    },
    "language_info": {
      "name": "python"
    }
  },
  "cells": [
    {
      "cell_type": "markdown",
      "source": [
        "\n",
        "2) Salary_hike -> Build a prediction model for Salary_hike\n",
        "\n",
        "------------------------------------------------------------\n",
        "\n",
        "Build a simple linear regression model by performing EDA and do necessary transformations and select the best model using R or Python."
      ],
      "metadata": {
        "id": "NCxbp92ggjOn"
      }
    },
    {
      "cell_type": "code",
      "execution_count": 1,
      "metadata": {
        "id": "M79AHrKrghsF"
      },
      "outputs": [],
      "source": [
        "import numpy as np\n",
        "import pandas as pd\n",
        "import matplotlib.pyplot as plt\n",
        "import statsmodels.api as sm\n",
        "from numpy.polynomial.polynomial import polyfit\n",
        "from sklearn.linear_model import LinearRegression"
      ]
    },
    {
      "cell_type": "code",
      "source": [
        "df=pd.read_csv('/content/Salary_Data.csv')"
      ],
      "metadata": {
        "id": "rggysFjIhmLI"
      },
      "execution_count": 2,
      "outputs": []
    },
    {
      "cell_type": "markdown",
      "source": [
        "ScatterPlot"
      ],
      "metadata": {
        "id": "g-h-4iHfht_t"
      }
    },
    {
      "cell_type": "code",
      "source": [
        "x=df['YearsExperience']\n",
        "y=df['Salary']"
      ],
      "metadata": {
        "id": "5rQ7RXZHhsju"
      },
      "execution_count": 3,
      "outputs": []
    },
    {
      "cell_type": "code",
      "source": [
        "b,m=polyfit(x,y,1)\n",
        "plt.scatter(x,y)\n",
        "plt.plot(x,y,'.')\n",
        "plt.plot(x,b+m*x,'-')\n",
        "plt.title('Scatter plot salary Hike')\n",
        "plt.xlabel('Years of Experience')\n",
        "plt.ylabel('Salary Hike')\n",
        "plt.show()"
      ],
      "metadata": {
        "id": "Kv4uXCtLiDmt",
        "outputId": "19d6624b-a984-4568-b5d8-e4ac5ad913f5",
        "colab": {
          "base_uri": "https://localhost:8080/",
          "height": 295
        }
      },
      "execution_count": 4,
      "outputs": [
        {
          "output_type": "display_data",
          "data": {
            "text/plain": [
              "<Figure size 432x288 with 1 Axes>"
            ],
            "image/png": "[encoded data removed]"
          },
          "metadata": {
            "needs_background": "light"
          }
        }
      ]
    },
    {
      "cell_type": "markdown",
      "source": [
        "Correlation Analysis"
      ],
      "metadata": {
        "id": "fMa4Me2fih9V"
      }
    },
    {
      "cell_type": "code",
      "source": [
        "corr=np.corrcoef(x,y)"
      ],
      "metadata": {
        "id": "JKUAyi_lifv9"
      },
      "execution_count": 5,
      "outputs": []
    },
    {
      "cell_type": "markdown",
      "source": [
        "The correlation between Salary Hike and Years of experience is high (98%)"
      ],
      "metadata": {
        "id": "WbV56UBMiwzH"
      }
    },
    {
      "cell_type": "markdown",
      "source": [
        "Regression Model"
      ],
      "metadata": {
        "id": "k0v-DmGkiyk9"
      }
    },
    {
      "cell_type": "code",
      "source": [
        "model=sm.OLS(y,x).fit()\n",
        "predictions=model.predict(x)"
      ],
      "metadata": {
        "id": "xuNp4ygjitJA"
      },
      "execution_count": 6,
      "outputs": []
    },
    {
      "cell_type": "code",
      "source": [
        "model.summary()"
      ],
      "metadata": {
        "id": "9JCe4OUdi8W3",
        "outputId": "b0610a4e-85c4-4f50-b8c5-ac4d2f997e13",
        "colab": {
          "base_uri": "https://localhost:8080/",
          "height": 435
        }
      },
      "execution_count": 7,
      "outputs": [
        {
          "output_type": "execute_result",
          "data": {
            "text/plain": [
              "<class 'statsmodels.iolib.summary.Summary'>\n",
              "\"\"\"\n",
              "                                 OLS Regression Results                                \n",
              "=======================================================================================\n",
              "Dep. Variable:                 Salary   R-squared (uncentered):                   0.973\n",
              "Model:                            OLS   Adj. R-squared (uncentered):              0.972\n",
              "Method:                 Least Squares   F-statistic:                              1048.\n",
              "Date:                Sat, 03 Dec 2022   Prob (F-statistic):                    2.56e-24\n",
              "Time:                        05:53:25   Log-Likelihood:                         -327.28\n",
              "No. Observations:                  30   AIC:                                      656.6\n",
              "Df Residuals:                      29   BIC:                                      658.0\n",
              "Df Model:                           1                                                  \n",
              "Covariance Type:            nonrobust                                                  \n",
              "===================================================================================\n",
              "                      coef    std err          t      P>|t|      [0.025      0.975]\n",
              "-----------------------------------------------------------------------------------\n",
              "YearsExperience  1.325e+04    409.401     32.376      0.000    1.24e+04    1.41e+04\n",
              "==============================================================================\n",
              "Omnibus:                        0.610   Durbin-Watson:                   0.323\n",
              "Prob(Omnibus):                  0.737   Jarque-Bera (JB):                0.671\n",
              "Skew:                          -0.121   Prob(JB):                        0.715\n",
              "Kurtosis:                       2.308   Cond. No.                         1.00\n",
              "==============================================================================\n",
              "\n",
              "Notes:\n",
              "[1] R² is computed without centering (uncentered) since the model does not contain a constant.\n",
              "[2] Standard Errors assume that the covariance matrix of the errors is correctly specified.\n",
              "\"\"\""
            ],
            "text/html": [
              "<table class=\"simpletable\">\n",
              "<caption>OLS Regression Results</caption>\n",
              "<tr>\n",
              "  <th>Dep. Variable:</th>         <td>Salary</td>      <th>  R-squared (uncentered):</th>      <td>   0.973</td>\n",
              "</tr>\n",
              "<tr>\n",
              "  <th>Model:</th>                   <td>OLS</td>       <th>  Adj. R-squared (uncentered):</th> <td>   0.972</td>\n",
              "</tr>\n",
              "<tr>\n",
              "  <th>Method:</th>             <td>Least Squares</td>  <th>  F-statistic:       </th>          <td>   1048.</td>\n",
              "</tr>\n",
              "<tr>\n",
              "  <th>Date:</th>             <td>Sat, 03 Dec 2022</td> <th>  Prob (F-statistic):</th>          <td>2.56e-24</td>\n",
              "</tr>\n",
              "<tr>\n",
              "  <th>Time:</th>                 <td>05:53:25</td>     <th>  Log-Likelihood:    </th>          <td> -327.28</td>\n",
              "</tr>\n",
              "<tr>\n",
              "  <th>No. Observations:</th>      <td>    30</td>      <th>  AIC:               </th>          <td>   656.6</td>\n",
              "</tr>\n",
              "<tr>\n",
              "  <th>Df Residuals:</th>          <td>    29</td>      <th>  BIC:               </th>          <td>   658.0</td>\n",
              "</tr>\n",
              "<tr>\n",
              "  <th>Df Model:</th>              <td>     1</td>      <th>                     </th>              <td> </td>   \n",
              "</tr>\n",
              "<tr>\n",
              "  <th>Covariance Type:</th>      <td>nonrobust</td>    <th>                     </th>              <td> </td>   \n",
              "</tr>\n",
              "</table>\n",
              "<table class=\"simpletable\">\n",
              "<tr>\n",
              "         <td></td>            <th>coef</th>     <th>std err</th>      <th>t</th>      <th>P>|t|</th>  <th>[0.025</th>    <th>0.975]</th>  \n",
              "</tr>\n",
              "<tr>\n",
              "  <th>YearsExperience</th> <td> 1.325e+04</td> <td>  409.401</td> <td>   32.376</td> <td> 0.000</td> <td> 1.24e+04</td> <td> 1.41e+04</td>\n",
              "</tr>\n",
              "</table>\n",
              "<table class=\"simpletable\">\n",
              "<tr>\n",
              "  <th>Omnibus:</th>       <td> 0.610</td> <th>  Durbin-Watson:     </th> <td>   0.323</td>\n",
              "</tr>\n",
              "<tr>\n",
              "  <th>Prob(Omnibus):</th> <td> 0.737</td> <th>  Jarque-Bera (JB):  </th> <td>   0.671</td>\n",
              "</tr>\n",
              "<tr>\n",
              "  <th>Skew:</th>          <td>-0.121</td> <th>  Prob(JB):          </th> <td>   0.715</td>\n",
              "</tr>\n",
              "<tr>\n",
              "  <th>Kurtosis:</th>      <td> 2.308</td> <th>  Cond. No.          </th> <td>    1.00</td>\n",
              "</tr>\n",
              "</table><br/><br/>Notes:<br/>[1] R² is computed without centering (uncentered) since the model does not contain a constant.<br/>[2] Standard Errors assume that the covariance matrix of the errors is correctly specified."
            ]
          },
          "metadata": {},
          "execution_count": 7
        }
      ]
    },
    {
      "cell_type": "markdown",
      "source": [
        "Transformation of X"
      ],
      "metadata": {
        "id": "lUaZTSRflQNR"
      }
    },
    {
      "cell_type": "code",
      "source": [
        "x_log=np.log(df['YearsExperience'])"
      ],
      "metadata": {
        "id": "-MVRVwFEi-Pg"
      },
      "execution_count": 8,
      "outputs": []
    },
    {
      "cell_type": "code",
      "source": [
        "model=sm.OLS(y,x_log).fit()\n",
        "predictions=model.predict(x_log)"
      ],
      "metadata": {
        "id": "kZGTfBGzlXlf"
      },
      "execution_count": 9,
      "outputs": []
    },
    {
      "cell_type": "code",
      "source": [
        "model.summary()"
      ],
      "metadata": {
        "id": "gwVb1VhSlfVd",
        "outputId": "3f67d981-9040-4e27-cf33-62ab65308047",
        "colab": {
          "base_uri": "https://localhost:8080/",
          "height": 435
        }
      },
      "execution_count": 10,
      "outputs": [
        {
          "output_type": "execute_result",
          "data": {
            "text/plain": [
              "<class 'statsmodels.iolib.summary.Summary'>\n",
              "\"\"\"\n",
              "                                 OLS Regression Results                                \n",
              "=======================================================================================\n",
              "Dep. Variable:                 Salary   R-squared (uncentered):                   0.979\n",
              "Model:                            OLS   Adj. R-squared (uncentered):              0.978\n",
              "Method:                 Least Squares   F-statistic:                              1338.\n",
              "Date:                Sat, 03 Dec 2022   Prob (F-statistic):                    8.06e-26\n",
              "Time:                        06:04:29   Log-Likelihood:                         -323.70\n",
              "No. Observations:                  30   AIC:                                      649.4\n",
              "Df Residuals:                      29   BIC:                                      650.8\n",
              "Df Model:                           1                                                  \n",
              "Covariance Type:            nonrobust                                                  \n",
              "===================================================================================\n",
              "                      coef    std err          t      P>|t|      [0.025      0.975]\n",
              "-----------------------------------------------------------------------------------\n",
              "YearsExperience  4.909e+04   1341.796     36.583      0.000    4.63e+04    5.18e+04\n",
              "==============================================================================\n",
              "Omnibus:                       10.249   Durbin-Watson:                   0.421\n",
              "Prob(Omnibus):                  0.006   Jarque-Bera (JB):                8.950\n",
              "Skew:                           1.106   Prob(JB):                       0.0114\n",
              "Kurtosis:                       4.507   Cond. No.                         1.00\n",
              "==============================================================================\n",
              "\n",
              "Notes:\n",
              "[1] R² is computed without centering (uncentered) since the model does not contain a constant.\n",
              "[2] Standard Errors assume that the covariance matrix of the errors is correctly specified.\n",
              "\"\"\""
            ],
            "text/html": [
              "<table class=\"simpletable\">\n",
              "<caption>OLS Regression Results</caption>\n",
              "<tr>\n",
              "  <th>Dep. Variable:</th>         <td>Salary</td>      <th>  R-squared (uncentered):</th>      <td>   0.979</td>\n",
              "</tr>\n",
              "<tr>\n",
              "  <th>Model:</th>                   <td>OLS</td>       <th>  Adj. R-squared (uncentered):</th> <td>   0.978</td>\n",
              "</tr>\n",
              "<tr>\n",
              "  <th>Method:</th>             <td>Least Squares</td>  <th>  F-statistic:       </th>          <td>   1338.</td>\n",
              "</tr>\n",
              "<tr>\n",
              "  <th>Date:</th>             <td>Sat, 03 Dec 2022</td> <th>  Prob (F-statistic):</th>          <td>8.06e-26</td>\n",
              "</tr>\n",
              "<tr>\n",
              "  <th>Time:</th>                 <td>06:04:29</td>     <th>  Log-Likelihood:    </th>          <td> -323.70</td>\n",
              "</tr>\n",
              "<tr>\n",
              "  <th>No. Observations:</th>      <td>    30</td>      <th>  AIC:               </th>          <td>   649.4</td>\n",
              "</tr>\n",
              "<tr>\n",
              "  <th>Df Residuals:</th>          <td>    29</td>      <th>  BIC:               </th>          <td>   650.8</td>\n",
              "</tr>\n",
              "<tr>\n",
              "  <th>Df Model:</th>              <td>     1</td>      <th>                     </th>              <td> </td>   \n",
              "</tr>\n",
              "<tr>\n",
              "  <th>Covariance Type:</th>      <td>nonrobust</td>    <th>                     </th>              <td> </td>   \n",
              "</tr>\n",
              "</table>\n",
              "<table class=\"simpletable\">\n",
              "<tr>\n",
              "         <td></td>            <th>coef</th>     <th>std err</th>      <th>t</th>      <th>P>|t|</th>  <th>[0.025</th>    <th>0.975]</th>  \n",
              "</tr>\n",
              "<tr>\n",
              "  <th>YearsExperience</th> <td> 4.909e+04</td> <td> 1341.796</td> <td>   36.583</td> <td> 0.000</td> <td> 4.63e+04</td> <td> 5.18e+04</td>\n",
              "</tr>\n",
              "</table>\n",
              "<table class=\"simpletable\">\n",
              "<tr>\n",
              "  <th>Omnibus:</th>       <td>10.249</td> <th>  Durbin-Watson:     </th> <td>   0.421</td>\n",
              "</tr>\n",
              "<tr>\n",
              "  <th>Prob(Omnibus):</th> <td> 0.006</td> <th>  Jarque-Bera (JB):  </th> <td>   8.950</td>\n",
              "</tr>\n",
              "<tr>\n",
              "  <th>Skew:</th>          <td> 1.106</td> <th>  Prob(JB):          </th> <td>  0.0114</td>\n",
              "</tr>\n",
              "<tr>\n",
              "  <th>Kurtosis:</th>      <td> 4.507</td> <th>  Cond. No.          </th> <td>    1.00</td>\n",
              "</tr>\n",
              "</table><br/><br/>Notes:<br/>[1] R² is computed without centering (uncentered) since the model does not contain a constant.<br/>[2] Standard Errors assume that the covariance matrix of the errors is correctly specified."
            ]
          },
          "metadata": {},
          "execution_count": 10
        }
      ]
    },
    {
      "cell_type": "markdown",
      "source": [
        "Transformation of Y"
      ],
      "metadata": {
        "id": "f0_J9fcKlisb"
      }
    },
    {
      "cell_type": "code",
      "source": [
        "y_log=np.log(df['Salary'])"
      ],
      "metadata": {
        "id": "Q6crlWpjlguB"
      },
      "execution_count": 11,
      "outputs": []
    },
    {
      "cell_type": "code",
      "source": [
        "model=sm.OLS(y_log,x).fit()\n",
        "predictions=model.predict(x)"
      ],
      "metadata": {
        "id": "Dn5y-c0AlqDL"
      },
      "execution_count": 12,
      "outputs": []
    },
    {
      "cell_type": "code",
      "source": [
        "model.summary()"
      ],
      "metadata": {
        "id": "Xsdq-GmClzrB",
        "outputId": "3228b141-0e6d-47ea-c354-59fa68e360cc",
        "colab": {
          "base_uri": "https://localhost:8080/",
          "height": 435
        }
      },
      "execution_count": 13,
      "outputs": [
        {
          "output_type": "execute_result",
          "data": {
            "text/plain": [
              "<class 'statsmodels.iolib.summary.Summary'>\n",
              "\"\"\"\n",
              "                                 OLS Regression Results                                \n",
              "=======================================================================================\n",
              "Dep. Variable:                 Salary   R-squared (uncentered):                   0.809\n",
              "Model:                            OLS   Adj. R-squared (uncentered):              0.802\n",
              "Method:                 Least Squares   F-statistic:                              122.8\n",
              "Date:                Sat, 03 Dec 2022   Prob (F-statistic):                    6.09e-12\n",
              "Time:                        06:05:51   Log-Likelihood:                         -90.160\n",
              "No. Observations:                  30   AIC:                                      182.3\n",
              "Df Residuals:                      29   BIC:                                      183.7\n",
              "Df Model:                           1                                                  \n",
              "Covariance Type:            nonrobust                                                  \n",
              "===================================================================================\n",
              "                      coef    std err          t      P>|t|      [0.025      0.975]\n",
              "-----------------------------------------------------------------------------------\n",
              "YearsExperience     1.6755      0.151     11.083      0.000       1.366       1.985\n",
              "==============================================================================\n",
              "Omnibus:                        3.609   Durbin-Watson:                   0.016\n",
              "Prob(Omnibus):                  0.165   Jarque-Bera (JB):                2.045\n",
              "Skew:                          -0.389   Prob(JB):                        0.360\n",
              "Kurtosis:                       1.985   Cond. No.                         1.00\n",
              "==============================================================================\n",
              "\n",
              "Notes:\n",
              "[1] R² is computed without centering (uncentered) since the model does not contain a constant.\n",
              "[2] Standard Errors assume that the covariance matrix of the errors is correctly specified.\n",
              "\"\"\""
            ],
            "text/html": [
              "<table class=\"simpletable\">\n",
              "<caption>OLS Regression Results</caption>\n",
              "<tr>\n",
              "  <th>Dep. Variable:</th>         <td>Salary</td>      <th>  R-squared (uncentered):</th>      <td>   0.809</td>\n",
              "</tr>\n",
              "<tr>\n",
              "  <th>Model:</th>                   <td>OLS</td>       <th>  Adj. R-squared (uncentered):</th> <td>   0.802</td>\n",
              "</tr>\n",
              "<tr>\n",
              "  <th>Method:</th>             <td>Least Squares</td>  <th>  F-statistic:       </th>          <td>   122.8</td>\n",
              "</tr>\n",
              "<tr>\n",
              "  <th>Date:</th>             <td>Sat, 03 Dec 2022</td> <th>  Prob (F-statistic):</th>          <td>6.09e-12</td>\n",
              "</tr>\n",
              "<tr>\n",
              "  <th>Time:</th>                 <td>06:05:51</td>     <th>  Log-Likelihood:    </th>          <td> -90.160</td>\n",
              "</tr>\n",
              "<tr>\n",
              "  <th>No. Observations:</th>      <td>    30</td>      <th>  AIC:               </th>          <td>   182.3</td>\n",
              "</tr>\n",
              "<tr>\n",
              "  <th>Df Residuals:</th>          <td>    29</td>      <th>  BIC:               </th>          <td>   183.7</td>\n",
              "</tr>\n",
              "<tr>\n",
              "  <th>Df Model:</th>              <td>     1</td>      <th>                     </th>              <td> </td>   \n",
              "</tr>\n",
              "<tr>\n",
              "  <th>Covariance Type:</th>      <td>nonrobust</td>    <th>                     </th>              <td> </td>   \n",
              "</tr>\n",
              "</table>\n",
              "<table class=\"simpletable\">\n",
              "<tr>\n",
              "         <td></td>            <th>coef</th>     <th>std err</th>      <th>t</th>      <th>P>|t|</th>  <th>[0.025</th>    <th>0.975]</th>  \n",
              "</tr>\n",
              "<tr>\n",
              "  <th>YearsExperience</th> <td>    1.6755</td> <td>    0.151</td> <td>   11.083</td> <td> 0.000</td> <td>    1.366</td> <td>    1.985</td>\n",
              "</tr>\n",
              "</table>\n",
              "<table class=\"simpletable\">\n",
              "<tr>\n",
              "  <th>Omnibus:</th>       <td> 3.609</td> <th>  Durbin-Watson:     </th> <td>   0.016</td>\n",
              "</tr>\n",
              "<tr>\n",
              "  <th>Prob(Omnibus):</th> <td> 0.165</td> <th>  Jarque-Bera (JB):  </th> <td>   2.045</td>\n",
              "</tr>\n",
              "<tr>\n",
              "  <th>Skew:</th>          <td>-0.389</td> <th>  Prob(JB):          </th> <td>   0.360</td>\n",
              "</tr>\n",
              "<tr>\n",
              "  <th>Kurtosis:</th>      <td> 1.985</td> <th>  Cond. No.          </th> <td>    1.00</td>\n",
              "</tr>\n",
              "</table><br/><br/>Notes:<br/>[1] R² is computed without centering (uncentered) since the model does not contain a constant.<br/>[2] Standard Errors assume that the covariance matrix of the errors is correctly specified."
            ]
          },
          "metadata": {},
          "execution_count": 13
        }
      ]
    },
    {
      "cell_type": "markdown",
      "source": [
        "Transformation of X & Y"
      ],
      "metadata": {
        "id": "jQ3auRl9l2_N"
      }
    },
    {
      "cell_type": "code",
      "source": [
        "model=sm.OLS(y_log,x_log).fit()\n",
        "predictions=model.predict(x_log)"
      ],
      "metadata": {
        "id": "tCRV0Fgfl04K"
      },
      "execution_count": 16,
      "outputs": []
    },
    {
      "cell_type": "code",
      "source": [
        "model.summary()"
      ],
      "metadata": {
        "id": "n9Q7tv3pmFyb",
        "outputId": "78faf7f7-47ee-4b88-e81d-3622f7a46c4f",
        "colab": {
          "base_uri": "https://localhost:8080/",
          "height": 435
        }
      },
      "execution_count": 17,
      "outputs": [
        {
          "output_type": "execute_result",
          "data": {
            "text/plain": [
              "<class 'statsmodels.iolib.summary.Summary'>\n",
              "\"\"\"\n",
              "                                 OLS Regression Results                                \n",
              "=======================================================================================\n",
              "Dep. Variable:                 Salary   R-squared (uncentered):                   0.878\n",
              "Model:                            OLS   Adj. R-squared (uncentered):              0.874\n",
              "Method:                 Least Squares   F-statistic:                              209.1\n",
              "Date:                Sat, 03 Dec 2022   Prob (F-statistic):                    8.60e-15\n",
              "Time:                        06:07:29   Log-Likelihood:                         -83.410\n",
              "No. Observations:                  30   AIC:                                      168.8\n",
              "Df Residuals:                      29   BIC:                                      170.2\n",
              "Df Model:                           1                                                  \n",
              "Covariance Type:            nonrobust                                                  \n",
              "===================================================================================\n",
              "                      coef    std err          t      P>|t|      [0.025      0.975]\n",
              "-----------------------------------------------------------------------------------\n",
              "YearsExperience     6.4461      0.446     14.461      0.000       5.534       7.358\n",
              "==============================================================================\n",
              "Omnibus:                        2.550   Durbin-Watson:                   0.026\n",
              "Prob(Omnibus):                  0.279   Jarque-Bera (JB):                2.163\n",
              "Skew:                           0.640   Prob(JB):                        0.339\n",
              "Kurtosis:                       2.697   Cond. No.                         1.00\n",
              "==============================================================================\n",
              "\n",
              "Notes:\n",
              "[1] R² is computed without centering (uncentered) since the model does not contain a constant.\n",
              "[2] Standard Errors assume that the covariance matrix of the errors is correctly specified.\n",
              "\"\"\""
            ],
            "text/html": [
              "<table class=\"simpletable\">\n",
              "<caption>OLS Regression Results</caption>\n",
              "<tr>\n",
              "  <th>Dep. Variable:</th>         <td>Salary</td>      <th>  R-squared (uncentered):</th>      <td>   0.878</td>\n",
              "</tr>\n",
              "<tr>\n",
              "  <th>Model:</th>                   <td>OLS</td>       <th>  Adj. R-squared (uncentered):</th> <td>   0.874</td>\n",
              "</tr>\n",
              "<tr>\n",
              "  <th>Method:</th>             <td>Least Squares</td>  <th>  F-statistic:       </th>          <td>   209.1</td>\n",
              "</tr>\n",
              "<tr>\n",
              "  <th>Date:</th>             <td>Sat, 03 Dec 2022</td> <th>  Prob (F-statistic):</th>          <td>8.60e-15</td>\n",
              "</tr>\n",
              "<tr>\n",
              "  <th>Time:</th>                 <td>06:07:29</td>     <th>  Log-Likelihood:    </th>          <td> -83.410</td>\n",
              "</tr>\n",
              "<tr>\n",
              "  <th>No. Observations:</th>      <td>    30</td>      <th>  AIC:               </th>          <td>   168.8</td>\n",
              "</tr>\n",
              "<tr>\n",
              "  <th>Df Residuals:</th>          <td>    29</td>      <th>  BIC:               </th>          <td>   170.2</td>\n",
              "</tr>\n",
              "<tr>\n",
              "  <th>Df Model:</th>              <td>     1</td>      <th>                     </th>              <td> </td>   \n",
              "</tr>\n",
              "<tr>\n",
              "  <th>Covariance Type:</th>      <td>nonrobust</td>    <th>                     </th>              <td> </td>   \n",
              "</tr>\n",
              "</table>\n",
              "<table class=\"simpletable\">\n",
              "<tr>\n",
              "         <td></td>            <th>coef</th>     <th>std err</th>      <th>t</th>      <th>P>|t|</th>  <th>[0.025</th>    <th>0.975]</th>  \n",
              "</tr>\n",
              "<tr>\n",
              "  <th>YearsExperience</th> <td>    6.4461</td> <td>    0.446</td> <td>   14.461</td> <td> 0.000</td> <td>    5.534</td> <td>    7.358</td>\n",
              "</tr>\n",
              "</table>\n",
              "<table class=\"simpletable\">\n",
              "<tr>\n",
              "  <th>Omnibus:</th>       <td> 2.550</td> <th>  Durbin-Watson:     </th> <td>   0.026</td>\n",
              "</tr>\n",
              "<tr>\n",
              "  <th>Prob(Omnibus):</th> <td> 0.279</td> <th>  Jarque-Bera (JB):  </th> <td>   2.163</td>\n",
              "</tr>\n",
              "<tr>\n",
              "  <th>Skew:</th>          <td> 0.640</td> <th>  Prob(JB):          </th> <td>   0.339</td>\n",
              "</tr>\n",
              "<tr>\n",
              "  <th>Kurtosis:</th>      <td> 2.697</td> <th>  Cond. No.          </th> <td>    1.00</td>\n",
              "</tr>\n",
              "</table><br/><br/>Notes:<br/>[1] R² is computed without centering (uncentered) since the model does not contain a constant.<br/>[2] Standard Errors assume that the covariance matrix of the errors is correctly specified."
            ]
          },
          "metadata": {},
          "execution_count": 17
        }
      ]
    },
    {
      "cell_type": "markdown",
      "source": [
        "SQRoot Transformation of X"
      ],
      "metadata": {
        "id": "Yc7rolytmPT9"
      }
    },
    {
      "cell_type": "code",
      "source": [
        "x_sqrt=np.sqrt(df['YearsExperience'])"
      ],
      "metadata": {
        "id": "2OZ9g-iXmG49"
      },
      "execution_count": 18,
      "outputs": []
    },
    {
      "cell_type": "code",
      "source": [
        "model=sm.OLS(y,x_sqrt).fit()\n",
        "predictions=model.predict(x_sqrt)"
      ],
      "metadata": {
        "id": "XCYJD87qmbK6"
      },
      "execution_count": 19,
      "outputs": []
    },
    {
      "cell_type": "code",
      "source": [
        "model.summary()"
      ],
      "metadata": {
        "id": "ae6j0mnCmkxf",
        "outputId": "da4348ec-3cdf-4702-f635-78997d64bf1d",
        "colab": {
          "base_uri": "https://localhost:8080/",
          "height": 435
        }
      },
      "execution_count": 20,
      "outputs": [
        {
          "output_type": "execute_result",
          "data": {
            "text/plain": [
              "<class 'statsmodels.iolib.summary.Summary'>\n",
              "\"\"\"\n",
              "                                 OLS Regression Results                                \n",
              "=======================================================================================\n",
              "Dep. Variable:                 Salary   R-squared (uncentered):                   0.989\n",
              "Model:                            OLS   Adj. R-squared (uncentered):              0.989\n",
              "Method:                 Least Squares   F-statistic:                              2697.\n",
              "Date:                Sat, 03 Dec 2022   Prob (F-statistic):                    3.62e-30\n",
              "Time:                        06:09:13   Log-Likelihood:                         -313.35\n",
              "No. Observations:                  30   AIC:                                      628.7\n",
              "Df Residuals:                      29   BIC:                                      630.1\n",
              "Df Model:                           1                                                  \n",
              "Covariance Type:            nonrobust                                                  \n",
              "===================================================================================\n",
              "                      coef    std err          t      P>|t|      [0.025      0.975]\n",
              "-----------------------------------------------------------------------------------\n",
              "YearsExperience   3.48e+04    670.056     51.932      0.000    3.34e+04    3.62e+04\n",
              "==============================================================================\n",
              "Omnibus:                        5.654   Durbin-Watson:                   0.734\n",
              "Prob(Omnibus):                  0.059   Jarque-Bera (JB):                1.849\n",
              "Skew:                          -0.040   Prob(JB):                        0.397\n",
              "Kurtosis:                       1.786   Cond. No.                         1.00\n",
              "==============================================================================\n",
              "\n",
              "Notes:\n",
              "[1] R² is computed without centering (uncentered) since the model does not contain a constant.\n",
              "[2] Standard Errors assume that the covariance matrix of the errors is correctly specified.\n",
              "\"\"\""
            ],
            "text/html": [
              "<table class=\"simpletable\">\n",
              "<caption>OLS Regression Results</caption>\n",
              "<tr>\n",
              "  <th>Dep. Variable:</th>         <td>Salary</td>      <th>  R-squared (uncentered):</th>      <td>   0.989</td>\n",
              "</tr>\n",
              "<tr>\n",
              "  <th>Model:</th>                   <td>OLS</td>       <th>  Adj. R-squared (uncentered):</th> <td>   0.989</td>\n",
              "</tr>\n",
              "<tr>\n",
              "  <th>Method:</th>             <td>Least Squares</td>  <th>  F-statistic:       </th>          <td>   2697.</td>\n",
              "</tr>\n",
              "<tr>\n",
              "  <th>Date:</th>             <td>Sat, 03 Dec 2022</td> <th>  Prob (F-statistic):</th>          <td>3.62e-30</td>\n",
              "</tr>\n",
              "<tr>\n",
              "  <th>Time:</th>                 <td>06:09:13</td>     <th>  Log-Likelihood:    </th>          <td> -313.35</td>\n",
              "</tr>\n",
              "<tr>\n",
              "  <th>No. Observations:</th>      <td>    30</td>      <th>  AIC:               </th>          <td>   628.7</td>\n",
              "</tr>\n",
              "<tr>\n",
              "  <th>Df Residuals:</th>          <td>    29</td>      <th>  BIC:               </th>          <td>   630.1</td>\n",
              "</tr>\n",
              "<tr>\n",
              "  <th>Df Model:</th>              <td>     1</td>      <th>                     </th>              <td> </td>   \n",
              "</tr>\n",
              "<tr>\n",
              "  <th>Covariance Type:</th>      <td>nonrobust</td>    <th>                     </th>              <td> </td>   \n",
              "</tr>\n",
              "</table>\n",
              "<table class=\"simpletable\">\n",
              "<tr>\n",
              "         <td></td>            <th>coef</th>     <th>std err</th>      <th>t</th>      <th>P>|t|</th>  <th>[0.025</th>    <th>0.975]</th>  \n",
              "</tr>\n",
              "<tr>\n",
              "  <th>YearsExperience</th> <td>  3.48e+04</td> <td>  670.056</td> <td>   51.932</td> <td> 0.000</td> <td> 3.34e+04</td> <td> 3.62e+04</td>\n",
              "</tr>\n",
              "</table>\n",
              "<table class=\"simpletable\">\n",
              "<tr>\n",
              "  <th>Omnibus:</th>       <td> 5.654</td> <th>  Durbin-Watson:     </th> <td>   0.734</td>\n",
              "</tr>\n",
              "<tr>\n",
              "  <th>Prob(Omnibus):</th> <td> 0.059</td> <th>  Jarque-Bera (JB):  </th> <td>   1.849</td>\n",
              "</tr>\n",
              "<tr>\n",
              "  <th>Skew:</th>          <td>-0.040</td> <th>  Prob(JB):          </th> <td>   0.397</td>\n",
              "</tr>\n",
              "<tr>\n",
              "  <th>Kurtosis:</th>      <td> 1.786</td> <th>  Cond. No.          </th> <td>    1.00</td>\n",
              "</tr>\n",
              "</table><br/><br/>Notes:<br/>[1] R² is computed without centering (uncentered) since the model does not contain a constant.<br/>[2] Standard Errors assume that the covariance matrix of the errors is correctly specified."
            ]
          },
          "metadata": {},
          "execution_count": 20
        }
      ]
    },
    {
      "cell_type": "markdown",
      "source": [
        "SQRoot Transformation of Y"
      ],
      "metadata": {
        "id": "04fVAsZ4mscc"
      }
    },
    {
      "cell_type": "code",
      "source": [
        "y_sqrt=np.sqrt(df['Salary'])"
      ],
      "metadata": {
        "id": "a6eds8vtmmGl"
      },
      "execution_count": 23,
      "outputs": []
    },
    {
      "cell_type": "code",
      "source": [
        "model=sm.OLS(y_sqrt,x).fit()\n",
        "predictions=model.predict(x)"
      ],
      "metadata": {
        "id": "zy6XMM3am493"
      },
      "execution_count": 24,
      "outputs": []
    },
    {
      "cell_type": "code",
      "source": [
        "model.summary()"
      ],
      "metadata": {
        "id": "fuej98DXnJBl",
        "outputId": "87f0d62c-6848-4fee-fb63-4bd930b73131",
        "colab": {
          "base_uri": "https://localhost:8080/",
          "height": 435
        }
      },
      "execution_count": 25,
      "outputs": [
        {
          "output_type": "execute_result",
          "data": {
            "text/plain": [
              "<class 'statsmodels.iolib.summary.Summary'>\n",
              "\"\"\"\n",
              "                                 OLS Regression Results                                \n",
              "=======================================================================================\n",
              "Dep. Variable:                 Salary   R-squared (uncentered):                   0.906\n",
              "Model:                            OLS   Adj. R-squared (uncentered):              0.902\n",
              "Method:                 Least Squares   F-statistic:                              278.1\n",
              "Date:                Sat, 03 Dec 2022   Prob (F-statistic):                    2.12e-16\n",
              "Time:                        06:11:41   Log-Likelihood:                         -175.75\n",
              "No. Observations:                  30   AIC:                                      353.5\n",
              "Df Residuals:                      29   BIC:                                      354.9\n",
              "Df Model:                           1                                                  \n",
              "Covariance Type:            nonrobust                                                  \n",
              "===================================================================================\n",
              "                      coef    std err          t      P>|t|      [0.025      0.975]\n",
              "-----------------------------------------------------------------------------------\n",
              "YearsExperience    43.7142      2.621     16.676      0.000      38.353      49.076\n",
              "==============================================================================\n",
              "Omnibus:                        2.437   Durbin-Watson:                   0.046\n",
              "Prob(Omnibus):                  0.296   Jarque-Bera (JB):                1.859\n",
              "Skew:                          -0.445   Prob(JB):                        0.395\n",
              "Kurtosis:                       2.167   Cond. No.                         1.00\n",
              "==============================================================================\n",
              "\n",
              "Notes:\n",
              "[1] R² is computed without centering (uncentered) since the model does not contain a constant.\n",
              "[2] Standard Errors assume that the covariance matrix of the errors is correctly specified.\n",
              "\"\"\""
            ],
            "text/html": [
              "<table class=\"simpletable\">\n",
              "<caption>OLS Regression Results</caption>\n",
              "<tr>\n",
              "  <th>Dep. Variable:</th>         <td>Salary</td>      <th>  R-squared (uncentered):</th>      <td>   0.906</td>\n",
              "</tr>\n",
              "<tr>\n",
              "  <th>Model:</th>                   <td>OLS</td>       <th>  Adj. R-squared (uncentered):</th> <td>   0.902</td>\n",
              "</tr>\n",
              "<tr>\n",
              "  <th>Method:</th>             <td>Least Squares</td>  <th>  F-statistic:       </th>          <td>   278.1</td>\n",
              "</tr>\n",
              "<tr>\n",
              "  <th>Date:</th>             <td>Sat, 03 Dec 2022</td> <th>  Prob (F-statistic):</th>          <td>2.12e-16</td>\n",
              "</tr>\n",
              "<tr>\n",
              "  <th>Time:</th>                 <td>06:11:41</td>     <th>  Log-Likelihood:    </th>          <td> -175.75</td>\n",
              "</tr>\n",
              "<tr>\n",
              "  <th>No. Observations:</th>      <td>    30</td>      <th>  AIC:               </th>          <td>   353.5</td>\n",
              "</tr>\n",
              "<tr>\n",
              "  <th>Df Residuals:</th>          <td>    29</td>      <th>  BIC:               </th>          <td>   354.9</td>\n",
              "</tr>\n",
              "<tr>\n",
              "  <th>Df Model:</th>              <td>     1</td>      <th>                     </th>              <td> </td>   \n",
              "</tr>\n",
              "<tr>\n",
              "  <th>Covariance Type:</th>      <td>nonrobust</td>    <th>                     </th>              <td> </td>   \n",
              "</tr>\n",
              "</table>\n",
              "<table class=\"simpletable\">\n",
              "<tr>\n",
              "         <td></td>            <th>coef</th>     <th>std err</th>      <th>t</th>      <th>P>|t|</th>  <th>[0.025</th>    <th>0.975]</th>  \n",
              "</tr>\n",
              "<tr>\n",
              "  <th>YearsExperience</th> <td>   43.7142</td> <td>    2.621</td> <td>   16.676</td> <td> 0.000</td> <td>   38.353</td> <td>   49.076</td>\n",
              "</tr>\n",
              "</table>\n",
              "<table class=\"simpletable\">\n",
              "<tr>\n",
              "  <th>Omnibus:</th>       <td> 2.437</td> <th>  Durbin-Watson:     </th> <td>   0.046</td>\n",
              "</tr>\n",
              "<tr>\n",
              "  <th>Prob(Omnibus):</th> <td> 0.296</td> <th>  Jarque-Bera (JB):  </th> <td>   1.859</td>\n",
              "</tr>\n",
              "<tr>\n",
              "  <th>Skew:</th>          <td>-0.445</td> <th>  Prob(JB):          </th> <td>   0.395</td>\n",
              "</tr>\n",
              "<tr>\n",
              "  <th>Kurtosis:</th>      <td> 2.167</td> <th>  Cond. No.          </th> <td>    1.00</td>\n",
              "</tr>\n",
              "</table><br/><br/>Notes:<br/>[1] R² is computed without centering (uncentered) since the model does not contain a constant.<br/>[2] Standard Errors assume that the covariance matrix of the errors is correctly specified."
            ]
          },
          "metadata": {},
          "execution_count": 25
        }
      ]
    },
    {
      "cell_type": "markdown",
      "source": [
        "SqRoot Transforation of X & Y"
      ],
      "metadata": {
        "id": "h7PZcCRInTjA"
      }
    },
    {
      "cell_type": "code",
      "source": [
        "model=sm.OLS(y_sqrt,x_sqrt).fit()\n",
        "predictions=model.predict(x_sqrt)"
      ],
      "metadata": {
        "id": "jO31aesgnKQA"
      },
      "execution_count": 27,
      "outputs": []
    },
    {
      "cell_type": "code",
      "source": [
        "model.summary()"
      ],
      "metadata": {
        "id": "vIhkfdN3nizE",
        "outputId": "cd699c8d-3775-4942-e4e2-e27cab068e81",
        "colab": {
          "base_uri": "https://localhost:8080/",
          "height": 435
        }
      },
      "execution_count": 28,
      "outputs": [
        {
          "output_type": "execute_result",
          "data": {
            "text/plain": [
              "<class 'statsmodels.iolib.summary.Summary'>\n",
              "\"\"\"\n",
              "                                 OLS Regression Results                                \n",
              "=======================================================================================\n",
              "Dep. Variable:                 Salary   R-squared (uncentered):                   0.988\n",
              "Model:                            OLS   Adj. R-squared (uncentered):              0.987\n",
              "Method:                 Least Squares   F-statistic:                              2338.\n",
              "Date:                Sat, 03 Dec 2022   Prob (F-statistic):                    2.81e-29\n",
              "Time:                        06:13:53   Log-Likelihood:                         -145.12\n",
              "No. Observations:                  30   AIC:                                      292.2\n",
              "Df Residuals:                      29   BIC:                                      293.6\n",
              "Df Model:                           1                                                  \n",
              "Covariance Type:            nonrobust                                                  \n",
              "===================================================================================\n",
              "                      coef    std err          t      P>|t|      [0.025      0.975]\n",
              "-----------------------------------------------------------------------------------\n",
              "YearsExperience   118.8652      2.458     48.352      0.000     113.837     123.893\n",
              "==============================================================================\n",
              "Omnibus:                        2.762   Durbin-Watson:                   0.231\n",
              "Prob(Omnibus):                  0.251   Jarque-Bera (JB):                2.152\n",
              "Skew:                           0.653   Prob(JB):                        0.341\n",
              "Kurtosis:                       2.881   Cond. No.                         1.00\n",
              "==============================================================================\n",
              "\n",
              "Notes:\n",
              "[1] R² is computed without centering (uncentered) since the model does not contain a constant.\n",
              "[2] Standard Errors assume that the covariance matrix of the errors is correctly specified.\n",
              "\"\"\""
            ],
            "text/html": [
              "<table class=\"simpletable\">\n",
              "<caption>OLS Regression Results</caption>\n",
              "<tr>\n",
              "  <th>Dep. Variable:</th>         <td>Salary</td>      <th>  R-squared (uncentered):</th>      <td>   0.988</td>\n",
              "</tr>\n",
              "<tr>\n",
              "  <th>Model:</th>                   <td>OLS</td>       <th>  Adj. R-squared (uncentered):</th> <td>   0.987</td>\n",
              "</tr>\n",
              "<tr>\n",
              "  <th>Method:</th>             <td>Least Squares</td>  <th>  F-statistic:       </th>          <td>   2338.</td>\n",
              "</tr>\n",
              "<tr>\n",
              "  <th>Date:</th>             <td>Sat, 03 Dec 2022</td> <th>  Prob (F-statistic):</th>          <td>2.81e-29</td>\n",
              "</tr>\n",
              "<tr>\n",
              "  <th>Time:</th>                 <td>06:13:53</td>     <th>  Log-Likelihood:    </th>          <td> -145.12</td>\n",
              "</tr>\n",
              "<tr>\n",
              "  <th>No. Observations:</th>      <td>    30</td>      <th>  AIC:               </th>          <td>   292.2</td>\n",
              "</tr>\n",
              "<tr>\n",
              "  <th>Df Residuals:</th>          <td>    29</td>      <th>  BIC:               </th>          <td>   293.6</td>\n",
              "</tr>\n",
              "<tr>\n",
              "  <th>Df Model:</th>              <td>     1</td>      <th>                     </th>              <td> </td>   \n",
              "</tr>\n",
              "<tr>\n",
              "  <th>Covariance Type:</th>      <td>nonrobust</td>    <th>                     </th>              <td> </td>   \n",
              "</tr>\n",
              "</table>\n",
              "<table class=\"simpletable\">\n",
              "<tr>\n",
              "         <td></td>            <th>coef</th>     <th>std err</th>      <th>t</th>      <th>P>|t|</th>  <th>[0.025</th>    <th>0.975]</th>  \n",
              "</tr>\n",
              "<tr>\n",
              "  <th>YearsExperience</th> <td>  118.8652</td> <td>    2.458</td> <td>   48.352</td> <td> 0.000</td> <td>  113.837</td> <td>  123.893</td>\n",
              "</tr>\n",
              "</table>\n",
              "<table class=\"simpletable\">\n",
              "<tr>\n",
              "  <th>Omnibus:</th>       <td> 2.762</td> <th>  Durbin-Watson:     </th> <td>   0.231</td>\n",
              "</tr>\n",
              "<tr>\n",
              "  <th>Prob(Omnibus):</th> <td> 0.251</td> <th>  Jarque-Bera (JB):  </th> <td>   2.152</td>\n",
              "</tr>\n",
              "<tr>\n",
              "  <th>Skew:</th>          <td> 0.653</td> <th>  Prob(JB):          </th> <td>   0.341</td>\n",
              "</tr>\n",
              "<tr>\n",
              "  <th>Kurtosis:</th>      <td> 2.881</td> <th>  Cond. No.          </th> <td>    1.00</td>\n",
              "</tr>\n",
              "</table><br/><br/>Notes:<br/>[1] R² is computed without centering (uncentered) since the model does not contain a constant.<br/>[2] Standard Errors assume that the covariance matrix of the errors is correctly specified."
            ]
          },
          "metadata": {},
          "execution_count": 28
        }
      ]
    },
    {
      "cell_type": "markdown",
      "source": [
        "We will use Model 5 as it has the best R square value\n",
        "\n",
        "1 - p-value < 0.01\n",
        "Thus the model is accepted\n",
        "\n",
        "2 - coefficient == 3.48e+04\n",
        "Thus if the value of years of experience is increased by 1, the predicted value of Salary hike will increase by 3.48e+04\n",
        "\n",
        "3 - Adj. R-sqared == 0.989\n",
        "Thus the model explains 98.9% of the variance in dependent variable"
      ],
      "metadata": {
        "id": "wnbBdaPwntIu"
      }
    },
    {
      "cell_type": "code",
      "source": [],
      "metadata": {
        "id": "Y74mTCCvnqfX"
      },
      "execution_count": null,
      "outputs": []
    }
  ]
}